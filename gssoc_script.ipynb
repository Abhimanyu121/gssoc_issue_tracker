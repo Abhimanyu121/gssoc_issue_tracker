{
 "cells": [
  {
   "cell_type": "code",
   "execution_count": 89,
   "metadata": {},
   "outputs": [],
   "source": [
    "from agithub.GitHub import GitHub\n",
    "import json\n",
    "import csv\n",
    "import os"
   ]
  },
  {
   "cell_type": "code",
   "execution_count": 90,
   "metadata": {},
   "outputs": [],
   "source": [
    "g = GitHub('qwerty', 'qwerty')"
   ]
  },
  {
   "cell_type": "code",
   "execution_count": 91,
   "metadata": {},
   "outputs": [],
   "source": [
    "try:\n",
    "    os.remove('out.csv')\n",
    "except OSError:\n",
    "    pass"
   ]
  },
  {
   "cell_type": "code",
   "execution_count": 79,
   "metadata": {},
   "outputs": [
    {
     "name": "stdout",
     "output_type": "stream",
     "text": [
      "['Images-to-PDF', 'Swati4star/Images-to-PDF']\n",
      "['Travel-Mate', 'project-travel-mate/Travel-Mate']\n",
      "['Ignitus-Client-Side-Development', 'Ignitus/Ignitus-Client-Side-Development']\n",
      "['QuizApp', 'darthgera123/QuizApp']\n",
      "['HackerRank Testcase Generator', 'aashutoshrathi/HackerRank-Test-Case-Generator']\n",
      "['B.E.N.J.I.', 'the-ethan-hunt/B.E.N.J.I.']\n",
      "['MentorFix', 'WrippleFoss/mentorFix']\n",
      "['CircuitVerse', 'CircuitVerse/CircuitVerse']\n",
      "['Cosmos', 'OpenGenus/cosmos']\n",
      "['in-time', 'nityanandagohain/in-time']\n",
      "['Groot', 'ugroot/GROOT']\n",
      "['Drive-CLI', 'nurdtechie98/drive-cli']\n",
      "['Connect-Me', 'fossasia/Connect-Me']\n",
      "['Techtonica Web Development Curriculum', 'Techtonica/curriculum']\n",
      "['MEVN-CLI', 'madlabsinc/mevn-cli']\n",
      "['Algo Ds Notes', 'jainaman224/Algo_Ds_Notes']\n",
      "['Social Platform Donut', 'codeuino/Social-Platform-Donut']\n",
      "['Delern Flashcards', 'dasfoo/delern']\n",
      "['Mathball', 'pbiswas101/Mathball']\n",
      "['Upay', 'upaytech/as-server']\n",
      "['BloodConnect', 'sushantahujaa/bloodconnect-project']\n",
      "['She Endeavors', 'she-endeavors/SheE']\n",
      "['Zero Gravity', 'zero-gravity-org/zero-gravity-website']\n",
      "{0: {'title': 'zip to pdf in fav', 'state': 'open', 'created_at': '2019-04-25T08:46:48Z', 'updated_at': '2019-04-26T10:32:30Z'}, 1: {'title': 'Issue 597 - UI Testing for Signup Screen', 'state': 'open', 'created_at': '2019-04-18T22:26:06Z', 'updated_at': '2019-04-18T22:32:39Z'}, 2: {'title': 'Bump react-scripts from 2.0.5 to 3.0.0', 'state': 'open', 'created_at': '2019-04-23T10:19:39Z', 'updated_at': '2019-04-24T18:23:25Z'}, 3: {'title': 'Added dropdown navbar.', 'state': 'open', 'created_at': '2019-03-16T17:40:13Z', 'updated_at': '2019-03-18T05:04:47Z'}, 4: {'title': 'Initialized docker environment', 'state': 'open', 'created_at': '2019-04-23T14:39:19Z', 'updated_at': '2019-04-23T14:47:46Z'}, 5: {'title': 'Issue #31 Modularizing Code - Srishilesh', 'state': 'open', 'created_at': '2019-04-22T00:29:05Z', 'updated_at': '2019-04-26T08:29:34Z'}, 6: {'title': 'MenteeType added to schema', 'state': 'open', 'created_at': '2019-03-26T18:38:54Z', 'updated_at': '2019-04-19T17:56:10Z'}, 7: {'title': 'fixed n+1 query issue on tags page', 'state': 'open', 'created_at': '2019-04-13T04:08:22Z', 'updated_at': '2019-04-17T06:25:32Z'}, 8: {'title': 'Flow control', 'state': 'open', 'created_at': '2019-04-26T09:55:18Z', 'updated_at': '2019-04-26T09:55:18Z'}, 9: {'title': 'Update README.md', 'state': 'open', 'created_at': '2019-03-09T16:21:31Z', 'updated_at': '2019-03-10T12:34:19Z'}, 10: {'title': '[Feature] Surprise me', 'state': 'open', 'created_at': '2019-04-19T07:37:27Z', 'updated_at': '2019-04-24T14:33:36Z'}, 11: {'title': 'keyError handler', 'state': 'open', 'created_at': '2019-04-09T18:22:06Z', 'updated_at': '2019-04-15T16:57:26Z'}, 12: {'title': 'Material revamp suggestion #2', 'state': 'open', 'created_at': '2018-10-01T01:51:03Z', 'updated_at': '2019-03-18T16:40:59Z'}, 13: {'title': 'Added postgreSQL installation steps.', 'state': 'open', 'created_at': '2019-04-26T07:40:38Z', 'updated_at': '2019-04-26T07:40:38Z'}, 14: {'title': 'Fix error while deleting .git directory on Windows', 'state': 'open', 'created_at': '2019-04-25T15:48:16Z', 'updated_at': '2019-04-25T16:32:05Z'}, 15: {'title': 'Create Gold.java', 'state': 'open', 'created_at': '2019-04-25T20:12:07Z', 'updated_at': '2019-04-26T05:21:41Z'}, 16: {'title': 'Issue165: auth/login route not working  ', 'state': 'open', 'created_at': '2019-04-16T21:00:25Z', 'updated_at': '2019-04-17T16:56:03Z'}, 17: {'title': 'Remove Windows-specific workarounds', 'state': 'open', 'created_at': '2019-03-26T17:03:04Z', 'updated_at': '2019-04-18T07:50:34Z'}, 18: {'title': 'added dfs to graph', 'state': 'open', 'created_at': '2019-04-26T04:08:05Z', 'updated_at': '2019-04-26T08:35:03Z'}, 20: {'title': 'rspec added', 'state': 'open', 'created_at': '2019-03-05T17:05:06Z', 'updated_at': '2019-04-15T13:03:43Z'}, 21: {'title': 'changed link items in navbar', 'state': 'open', 'created_at': '2019-04-25T07:42:39Z', 'updated_at': '2019-04-25T07:42:39Z'}, 22: {'title': 'Changed color of the hamburger icon', 'state': 'open', 'created_at': '2019-04-22T19:57:54Z', 'updated_at': '2019-04-22T19:57:54Z'}}\n"
     ]
    }
   ],
   "source": [
    "pull_dict={}\n",
    "with open('list.csv', newline='') as csvfile:\n",
    "    spamreader = csv.reader(csvfile)\n",
    "    i = 0\n",
    "    for row in spamreader:\n",
    "        print(row)\n",
    "        status ,data = g.repos[row[1]].pulls.get()\n",
    "        y =json.dumps(data,indent=2)\n",
    "        z= json.loads(y)\n",
    "        max = 0\n",
    "        for item in z:\n",
    "            if(item.get(\"number\")>max):\n",
    "                max = item.get(\"number\")\n",
    "        for item in z:\n",
    "            if(item.get(\"number\")== max):\n",
    "                pull_dict[i] = {}\n",
    "                pull_dict[i]['title']= item.get(\"title\")\n",
    "                pull_dict[i]['state']= item.get(\"state\")\n",
    "                pull_dict[i]['created_at']= item.get(\"created_at\")\n",
    "                pull_dict[i]['updated_at']= item.get(\"updated_at\")\n",
    "                break\n",
    "        i= i+1\n",
    "print(pull_dict)"
   ]
  },
  {
   "cell_type": "code",
   "execution_count": 72,
   "metadata": {
    "scrolled": true
   },
   "outputs": [
    {
     "name": "stdout",
     "output_type": "stream",
     "text": [
      "['Images-to-PDF', 'Swati4star/Images-to-PDF']\n",
      "['Travel-Mate', 'project-travel-mate/Travel-Mate']\n",
      "['Ignitus-Client-Side-Development', 'Ignitus/Ignitus-Client-Side-Development']\n",
      "['QuizApp', 'darthgera123/QuizApp']\n",
      "['HackerRank Testcase Generator', 'aashutoshrathi/HackerRank-Test-Case-Generator']\n",
      "['B.E.N.J.I.', 'the-ethan-hunt/B.E.N.J.I.']\n",
      "['MentorFix', 'WrippleFoss/mentorFix']\n",
      "['CircuitVerse', 'CircuitVerse/CircuitVerse']\n",
      "['Cosmos', 'OpenGenus/cosmos']\n",
      "['in-time', 'nityanandagohain/in-time']\n",
      "['Groot', 'ugroot/GROOT']\n",
      "['Drive-CLI', 'nurdtechie98/drive-cli']\n",
      "['Connect-Me', 'fossasia/Connect-Me']\n",
      "['Techtonica Web Development Curriculum', 'Techtonica/curriculum']\n",
      "['MEVN-CLI', 'madlabsinc/mevn-cli']\n",
      "['Algo Ds Notes', 'jainaman224/Algo_Ds_Notes']\n",
      "['Social Platform Donut', 'codeuino/Social-Platform-Donut']\n",
      "['Delern Flashcards', 'dasfoo/delern']\n",
      "['Mathball', 'pbiswas101/Mathball']\n",
      "['Upay', 'upaytech/as-server']\n",
      "['BloodConnect', 'sushantahujaa/bloodconnect-project']\n",
      "['She Endeavors', 'she-endeavors/SheE']\n",
      "['Zero Gravity', 'zero-gravity-org/zero-gravity-website']\n",
      "{0: {'title': 'Bug in View Files', 'state': 'open', 'created_at': '2019-04-25T19:17:22Z', 'updated_at': '2019-04-26T01:37:00Z'}, 1: {'title': '[ Travel Mate ][ version 5.4.0 ] Online shopping search result disappears on every rotation', 'state': 'open', 'created_at': '2019-04-26T04:49:42Z', 'updated_at': '2019-04-26T04:49:42Z'}, 2: {'title': 'Bump react-scripts from 2.0.5 to 3.0.0', 'state': 'open', 'created_at': '2019-04-23T10:19:39Z', 'updated_at': '2019-04-24T18:23:25Z'}, 3: {'title': \"[GSSoC]: Action required for GSSoC'19 \", 'state': 'open', 'created_at': '2019-04-22T15:37:25Z', 'updated_at': '2019-04-22T15:37:25Z'}, 4: {'title': 'Initialized docker environment', 'state': 'open', 'created_at': '2019-04-23T14:39:19Z', 'updated_at': '2019-04-23T14:47:46Z'}, 5: {'title': 'Issue #31 Modularizing Code - Srishilesh', 'state': 'open', 'created_at': '2019-04-22T00:29:05Z', 'updated_at': '2019-04-26T08:29:34Z'}, 6: {'title': '[Backend]Create magic link for user', 'state': 'open', 'created_at': '2019-04-02T02:05:44Z', 'updated_at': '2019-04-02T02:05:44Z'}, 7: {'title': 'Save Online Project Bug', 'state': 'open', 'created_at': '2019-04-25T19:08:01Z', 'updated_at': '2019-04-26T09:04:26Z'}, 8: {'title': 'Flow control', 'state': 'open', 'created_at': '2019-04-26T09:55:18Z', 'updated_at': '2019-04-26T09:55:18Z'}, 9: {'title': 'Show \"SignIn\" instead of \"SignOut\" when user is not logged in', 'state': 'open', 'created_at': '2019-04-16T08:28:19Z', 'updated_at': '2019-04-16T08:41:14Z'}, 10: {'title': 'Book My Marks!', 'state': 'open', 'created_at': '2019-04-20T07:27:51Z', 'updated_at': '2019-04-24T06:58:04Z'}, 11: {'title': 'copy/move file/folder from one directory to another', 'state': 'open', 'created_at': '2019-04-16T19:16:37Z', 'updated_at': '2019-04-16T19:19:46Z'}, 12: {'title': 'Adding Counter For Member In Community  ', 'state': 'open', 'created_at': '2019-03-06T14:49:36Z', 'updated_at': '2019-03-12T17:24:44Z'}, 13: {'title': 'Added postgreSQL installation steps.', 'state': 'open', 'created_at': '2019-04-26T07:40:38Z', 'updated_at': '2019-04-26T07:40:38Z'}, 14: {'title': 'Fix error while deleting .git directory on Windows', 'state': 'open', 'created_at': '2019-04-25T15:48:16Z', 'updated_at': '2019-04-25T16:32:05Z'}, 15: {'title': 'Create Gold.java', 'state': 'open', 'created_at': '2019-04-25T20:12:07Z', 'updated_at': '2019-04-26T05:21:41Z'}, 16: {'title': 'Upvote click is sending request to http://localhost:3000/profile/upvote , which is not found.', 'state': 'open', 'created_at': '2019-04-24T09:24:50Z', 'updated_at': '2019-04-24T09:24:50Z'}, 17: {'title': 'UX: apply new color styles ', 'state': 'open', 'created_at': '2019-04-21T16:39:29Z', 'updated_at': '2019-04-21T16:39:29Z'}, 18: {'title': 'added dfs to graph', 'state': 'open', 'created_at': '2019-04-26T04:08:05Z', 'updated_at': '2019-04-26T08:35:03Z'}, 19: {'title': 'Create seeds for the database when docker container runs for the first time', 'state': 'open', 'created_at': '2019-03-02T03:23:25Z', 'updated_at': '2019-03-20T11:23:59Z'}, 20: {'title': 'rspec added', 'state': 'open', 'created_at': '2019-03-05T17:05:06Z', 'updated_at': '2019-04-15T13:03:43Z'}, 21: {'title': 'changed link items in navbar', 'state': 'open', 'created_at': '2019-04-25T07:42:39Z', 'updated_at': '2019-04-25T07:42:39Z'}, 22: {'title': 'Changed color of the hamburger icon', 'state': 'open', 'created_at': '2019-04-22T19:57:54Z', 'updated_at': '2019-04-22T19:57:54Z'}}\n"
     ]
    }
   ],
   "source": [
    "details_dict={}\n",
    "with open('list.csv', newline='') as csvfile:\n",
    "    spamreader = csv.reader(csvfile)\n",
    "    i = 0\n",
    "    for row in spamreader:\n",
    "        print(row)\n",
    "        status ,data = g.repos[row[1]].issues.get()\n",
    "        y =json.dumps(data,indent=2)\n",
    "        z= json.loads(y)\n",
    "        max = 0\n",
    "        for item in z:\n",
    "            if(item.get(\"number\")>max):\n",
    "                max = item.get(\"number\")\n",
    "        for item in z:\n",
    "            if(item.get(\"number\")== max):\n",
    "                details_dict[i] = {}\n",
    "                details_dict[i]['title']= item.get(\"title\")\n",
    "                details_dict[i]['state']= item.get(\"state\")\n",
    "                details_dict[i]['created_at']= item.get(\"created_at\")\n",
    "                details_dict[i]['updated_at']= item.get(\"updated_at\")\n",
    "                break\n",
    "        i= i+1\n",
    "print(details_dict)"
   ]
  },
  {
   "cell_type": "code",
   "execution_count": 85,
   "metadata": {
    "scrolled": true
   },
   "outputs": [
    {
     "ename": "KeyError",
     "evalue": "19",
     "output_type": "error",
     "traceback": [
      "\u001b[1;31m---------------------------------------------------------------------------\u001b[0m",
      "\u001b[1;31mKeyError\u001b[0m                                  Traceback (most recent call last)",
      "\u001b[1;32m<ipython-input-85-ef156d970f5e>\u001b[0m in \u001b[0;36m<module>\u001b[1;34m\u001b[0m\n\u001b[0;32m      6\u001b[0m     \u001b[0mreader\u001b[0m \u001b[1;33m=\u001b[0m \u001b[0mcsv\u001b[0m\u001b[1;33m.\u001b[0m\u001b[0mreader\u001b[0m\u001b[1;33m(\u001b[0m\u001b[0mcsvfile\u001b[0m\u001b[1;33m)\u001b[0m\u001b[1;33m\u001b[0m\u001b[1;33m\u001b[0m\u001b[0m\n\u001b[0;32m      7\u001b[0m     \u001b[1;32mfor\u001b[0m \u001b[0mrow\u001b[0m \u001b[1;32min\u001b[0m \u001b[0mreader\u001b[0m\u001b[1;33m:\u001b[0m\u001b[1;33m\u001b[0m\u001b[1;33m\u001b[0m\u001b[0m\n\u001b[1;32m----> 8\u001b[1;33m         \u001b[0mwriter\u001b[0m\u001b[1;33m.\u001b[0m\u001b[0mwriterow\u001b[0m\u001b[1;33m(\u001b[0m\u001b[1;33m{\u001b[0m\u001b[1;34m'name'\u001b[0m\u001b[1;33m:\u001b[0m\u001b[0mrow\u001b[0m\u001b[1;33m[\u001b[0m\u001b[1;36m0\u001b[0m\u001b[1;33m]\u001b[0m\u001b[1;33m,\u001b[0m\u001b[1;34m'title_i'\u001b[0m\u001b[1;33m:\u001b[0m\u001b[0mdetails_dict\u001b[0m\u001b[1;33m[\u001b[0m\u001b[0mx\u001b[0m\u001b[1;33m]\u001b[0m\u001b[1;33m[\u001b[0m\u001b[1;34m'title'\u001b[0m\u001b[1;33m]\u001b[0m\u001b[1;33m,\u001b[0m\u001b[1;34m'state_i'\u001b[0m\u001b[1;33m:\u001b[0m\u001b[0mdetails_dict\u001b[0m\u001b[1;33m[\u001b[0m\u001b[0mx\u001b[0m\u001b[1;33m]\u001b[0m\u001b[1;33m[\u001b[0m\u001b[1;34m'state'\u001b[0m\u001b[1;33m]\u001b[0m\u001b[1;33m,\u001b[0m\u001b[1;34m'created_at_i'\u001b[0m\u001b[1;33m:\u001b[0m\u001b[0mdetails_dict\u001b[0m\u001b[1;33m[\u001b[0m\u001b[0mx\u001b[0m\u001b[1;33m]\u001b[0m\u001b[1;33m[\u001b[0m\u001b[1;34m'created_at'\u001b[0m\u001b[1;33m]\u001b[0m\u001b[1;33m,\u001b[0m\u001b[1;34m'updated_at_i'\u001b[0m\u001b[1;33m:\u001b[0m\u001b[0mdetails_dict\u001b[0m\u001b[1;33m[\u001b[0m\u001b[0mx\u001b[0m\u001b[1;33m]\u001b[0m\u001b[1;33m[\u001b[0m\u001b[1;34m'updated_at'\u001b[0m\u001b[1;33m]\u001b[0m\u001b[1;33m,\u001b[0m\u001b[1;34m'title_p'\u001b[0m\u001b[1;33m:\u001b[0m\u001b[0mpull_dict\u001b[0m\u001b[1;33m[\u001b[0m\u001b[0mx\u001b[0m\u001b[1;33m]\u001b[0m\u001b[1;33m[\u001b[0m\u001b[1;34m'title'\u001b[0m\u001b[1;33m]\u001b[0m\u001b[1;33m,\u001b[0m\u001b[1;34m'state_p'\u001b[0m\u001b[1;33m:\u001b[0m\u001b[0mpull_dict\u001b[0m\u001b[1;33m[\u001b[0m\u001b[0mx\u001b[0m\u001b[1;33m]\u001b[0m\u001b[1;33m[\u001b[0m\u001b[1;34m'state'\u001b[0m\u001b[1;33m]\u001b[0m\u001b[1;33m,\u001b[0m\u001b[1;34m'created_at_p'\u001b[0m\u001b[1;33m:\u001b[0m\u001b[0mpull_dict\u001b[0m\u001b[1;33m[\u001b[0m\u001b[0mx\u001b[0m\u001b[1;33m]\u001b[0m\u001b[1;33m[\u001b[0m\u001b[1;34m'created_at'\u001b[0m\u001b[1;33m]\u001b[0m\u001b[1;33m,\u001b[0m\u001b[1;34m'updated_at_p'\u001b[0m\u001b[1;33m:\u001b[0m\u001b[0mpull_dict\u001b[0m\u001b[1;33m[\u001b[0m\u001b[0mx\u001b[0m\u001b[1;33m]\u001b[0m\u001b[1;33m[\u001b[0m\u001b[1;34m'updated_at'\u001b[0m\u001b[1;33m]\u001b[0m\u001b[1;33m}\u001b[0m\u001b[1;33m)\u001b[0m\u001b[1;33m\u001b[0m\u001b[1;33m\u001b[0m\u001b[0m\n\u001b[0m\u001b[0;32m      9\u001b[0m         \u001b[0mx\u001b[0m\u001b[1;33m=\u001b[0m \u001b[0mx\u001b[0m\u001b[1;33m+\u001b[0m\u001b[1;36m1\u001b[0m\u001b[1;33m\u001b[0m\u001b[1;33m\u001b[0m\u001b[0m\n",
      "\u001b[1;31mKeyError\u001b[0m: 19"
     ]
    }
   ],
   "source": [
    "headers = ['name','issues','title_i','state_i','created_at_i','updated_at_i','pulls','title_p','state_p','created_at_p','updated_at_p']\n",
    "x=0\n",
    "with open('list.csv', newline='') as csvfile, open('out.csv', 'a', newline='') as outfile:\n",
    "    writer = csv.DictWriter(outfile, fieldnames=headers)\n",
    "    writer.writeheader()\n",
    "    reader = csv.reader(csvfile)\n",
    "    for row in reader:\n",
    "        writer.writerow({'name':row[0],'title_i':details_dict[x]['title'],'state_i':details_dict[x]['state'],'created_at_i':details_dict[x]['created_at'],'updated_at_i':details_dict[x]['updated_at'],'title_p':pull_dict[x]['title'],'state_p':pull_dict[x]['state'],'created_at_p':pull_dict[x]['created_at'],'updated_at_p':pull_dict[x]['updated_at']})\n",
    "        x= x+1"
   ]
  },
  {
   "cell_type": "code",
   "execution_count": null,
   "metadata": {},
   "outputs": [],
   "source": []
  }
 ],
 "metadata": {
  "kernelspec": {
   "display_name": "Python 3",
   "language": "python",
   "name": "python3"
  },
  "language_info": {
   "codemirror_mode": {
    "name": "ipython",
    "version": 3
   },
   "file_extension": ".py",
   "mimetype": "text/x-python",
   "name": "python",
   "nbconvert_exporter": "python",
   "pygments_lexer": "ipython3",
   "version": "3.7.3"
  }
 },
 "nbformat": 4,
 "nbformat_minor": 2
}
